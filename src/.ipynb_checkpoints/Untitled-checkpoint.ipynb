{
 "cells": [
  {
   "cell_type": "code",
   "execution_count": 1,
   "metadata": {},
   "outputs": [
    {
     "data": {
      "text/plain": [
       "Main.Diagnostic"
      ]
     },
     "execution_count": 1,
     "metadata": {},
     "output_type": "execute_result"
    }
   ],
   "source": [
    "module Concept\n",
    "\n",
    "export provide\n",
    "\n",
    "function provide(object::T=nothing,args...;kwargs...) where T<:Any\n",
    "    throw(DomainError(\"calling abstract method [provide], concrete implementation needed!\"))\n",
    "end\n",
    "\n",
    "end\n",
    "\n",
    "module Diagnostic\n",
    "using Main.Concept\n",
    "export YY\n",
    "struct YY end\n",
    "function Concept.provide(object::YY,x=nothing;keyarg=nothing)\n",
    "    println(\"diag\")\n",
    "    if !isnothing(x)\n",
    "        println(\"optional non kwarg\")\n",
    "    end\n",
    "    if !isnothing(keyarg)\n",
    "        println(\"keywordarg\")\n",
    "    end\n",
    "end\n",
    "end\n"
   ]
  },
  {
   "cell_type": "code",
   "execution_count": null,
   "metadata": {},
   "outputs": [],
   "source": [
    "module Concept\n",
    "\n",
    "export provide\n",
    "\n",
    "function provide(object::T=nothing,args...;kwargs...) where T<:Any\n",
    "    throw(DomainError(\"calling abstract method [provide], concrete implementation needed!\"))\n",
    "end\n",
    "\n",
    "end\n",
    "\n",
    "module Diagnostic\n",
    "using Main.Concept\n",
    "export YY\n",
    "struct YY end\n",
    "function Concept.provide(object::YY,x=nothing;keyarg=nothing)\n",
    "    println(\"diag\")\n",
    "    if !isnothing(x)\n",
    "        println(\"optional non kwarg\")\n",
    "    end\n",
    "    if !isnothing(keyarg)\n",
    "        println(\"keywordarg\")\n",
    "    end\n",
    "end\n",
    "end\n"
   ]
  },
  {
   "cell_type": "code",
   "execution_count": 2,
   "metadata": {},
   "outputs": [
    {
     "name": "stdout",
     "output_type": "stream",
     "text": [
      "diag\n",
      "------------------------------\n",
      "diag\n",
      "optional non kwarg\n",
      "keywordarg\n",
      "------------------------------\n",
      "diag\n",
      "keywordarg\n",
      "------------------------------\n",
      "diag\n",
      "optional non kwarg\n",
      "------------------------------\n"
     ]
    },
    {
     "ename": "DomainError",
     "evalue": "DomainError with calling abstract method [provide], concrete implementation needed!:\n",
     "output_type": "error",
     "traceback": [
      "DomainError with calling abstract method [provide], concrete implementation needed!:\n",
      "",
      "Stacktrace:",
      " [1] #provide#1(::Base.Iterators.Pairs{Union{},Union{},Tuple{},NamedTuple{(),Tuple{}}}, ::Function, ::Nothing) at ./In[1]:6",
      " [2] provide(::Nothing) at ./In[1]:6 (repeats 2 times)",
      " [3] top-level scope at In[2]:10"
     ]
    }
   ],
   "source": [
    "using Main.Diagnostic,Main.Concept\n",
    "provide(YY())\n",
    "println(\"------------------------------\")\n",
    "provide(YY(),1,keyarg=\"haha\")\n",
    "println(\"------------------------------\")\n",
    "provide(YY(),keyarg=\"haha\")\n",
    "println(\"------------------------------\")\n",
    "provide(YY(),1)\n",
    "println(\"------------------------------\")\n",
    "provide()\n"
   ]
  },
  {
   "cell_type": "code",
   "execution_count": 11,
   "metadata": {},
   "outputs": [
    {
     "name": "stdout",
     "output_type": "stream",
     "text": [
      "diag\n",
      "optional non kwarg\n",
      "keywordarg\n",
      "------------------------------\n",
      "diag\n",
      "keywordarg\n",
      "------------------------------\n",
      "diag\n",
      "optional non kwarg\n",
      "------------------------------\n"
     ]
    },
    {
     "name": "stderr",
     "output_type": "stream",
     "text": [
      "WARNING: replacing module Test.\n"
     ]
    },
    {
     "ename": "DomainError",
     "evalue": "DomainError with calling abstract method [provide], concrete implementation needed!:\n",
     "output_type": "error",
     "traceback": [
      "DomainError with calling abstract method [provide], concrete implementation needed!:\n",
      "",
      "Stacktrace:",
      " [1] #provide#1(::Base.Iterators.Pairs{Union{},Union{},Tuple{},NamedTuple{(),Tuple{}}}, ::Function, ::Nothing) at ./In[1]:6",
      " [2] provide(::Nothing) at ./In[1]:6 (repeats 2 times)",
      " [3] top-level scope at none:0"
     ]
    }
   ],
   "source": [
    "module Test \n",
    "using Main.Diagnostic,Main.Concept\n",
    "\n",
    "provide(YY(),1,keyarg=\"haha\")\n",
    "println(\"------------------------------\")\n",
    "provide(YY(),keyarg=\"haha\")\n",
    "println(\"------------------------------\")\n",
    "provide(YY(),1)\n",
    "println(\"------------------------------\")\n",
    "provide()\n",
    "end"
   ]
  },
  {
   "cell_type": "code",
   "execution_count": 8,
   "metadata": {},
   "outputs": [
    {
     "ename": "UndefVarError",
     "evalue": "UndefVarError: YY not defined",
     "output_type": "error",
     "traceback": [
      "UndefVarError: YY not defined",
      "",
      "Stacktrace:",
      " [1] top-level scope at In[8]:1"
     ]
    }
   ],
   "source": [
    "YY()"
   ]
  },
  {
   "cell_type": "code",
   "execution_count": 5,
   "metadata": {},
   "outputs": [
    {
     "data": {
      "text/plain": [
       "YY()"
      ]
     },
     "execution_count": 5,
     "metadata": {},
     "output_type": "execute_result"
    }
   ],
   "source": [
    "YY()"
   ]
  },
  {
   "cell_type": "code",
   "execution_count": 6,
   "metadata": {},
   "outputs": [],
   "source": [
    "provide(1)"
   ]
  },
  {
   "cell_type": "code",
   "execution_count": 11,
   "metadata": {},
   "outputs": [],
   "source": [
    "provide(YY())"
   ]
  },
  {
   "cell_type": "code",
   "execution_count": 12,
   "metadata": {},
   "outputs": [
    {
     "data": {
      "text/plain": [
       "Revise"
      ]
     },
     "execution_count": 12,
     "metadata": {},
     "output_type": "execute_result"
    }
   ],
   "source": []
  },
  {
   "cell_type": "code",
   "execution_count": 8,
   "metadata": {},
   "outputs": [
    {
     "ename": "LoadError",
     "evalue": "syntax: extra token \"!\" after end of expression",
     "output_type": "error",
     "traceback": [
      "syntax: extra token \"!\" after end of expression",
      ""
     ]
    }
   ],
   "source": [
    "module MatrixCompletion_\n",
    "\n",
    "\n",
    "module Concepts\n",
    "\n",
    "#import Distributions\n",
    "#import Utilities.Indexing\n",
    "\n",
    "\n",
    "abstract type ExponentialFamily end \n",
    "struct AbstractBinomial         <: ExponentialFamily         end\n",
    "struct AbstractGaussian         <: ExponentialFamily         end\n",
    "struct AbstractPoisson          <: ExponentialFamily         end\n",
    "struct AbstractGamma            <: ExponentialFamily         end\n",
    "struct AbstractExponential      <: ExponentialFamily         end\n",
    "struct AbstractNegativeBinomial <: ExponentialFamily         end\n",
    "struct AbstractGeometric        <: ExponentialFamily         end\n",
    "\n",
    "\n",
    "abstract type AbstractDiagnostics end\n",
    "\n",
    "struct Diagnostics{T} end\n",
    "\n",
    "\n",
    "\n",
    "\n",
    "abstract type ErrorMetric end\n",
    "\n",
    "struct L0Distance <: ErrorMetric end\n",
    "struct L2Distance <: ErrorMetric end\n",
    "struct L1Distance <: ErrorMetric end\n",
    "\n",
    "\n",
    "@enum DIST_FLAGS Bernoulli Poisson Gaussian Gamma NegativeBinomial\n",
    "\n",
    "\n",
    "# Abstract Interface #\n",
    "\n",
    "export provide\n",
    "\n",
    "\n",
    "\n",
    "\n",
    "export ExponentialFamily,\n",
    "    AbstractBinomial,\n",
    "    AbstractGaussian,\n",
    "    AbstractGamma,\n",
    "    AbstractExponential,\n",
    "    AbstractPoisson,\n",
    "    DIST_FLAGS,\n",
    "    Bernoulli,\n",
    "    Poisson,\n",
    "    Gamma,\n",
    "    NegativeBinomial,\n",
    "    Gaussian\n",
    "\n",
    "\n",
    "export ErrorMetric,\n",
    "    L1Distance,\n",
    "    L2Distance,\n",
    "    L0Distance,\n",
    "    Diagnostics\n",
    "\n",
    "export convert_to_flag,\n",
    "    check\n",
    "    \n",
    "    \n",
    "#export provide\n",
    "\n",
    "function provide(object::T=nothing,arg...;kwargs...) where T<:Any\n",
    "    throw(DomainError(\"[provide]: calling abstract method. Concrete implementation needed\"))\n",
    "end\n",
    "\n",
    "\n",
    "\n",
    "function convert_to_flag(from::ExponentialFamily)\n",
    "    if isa(from,AbstractBinomial)\n",
    "        return Indexing.Binomial\n",
    "    end\n",
    "    if isa(from,AbstractGamma)\n",
    "        return Indexing.Gamma\n",
    "    end\n",
    "    if isa(from,AbstractNegativeBinomial)\n",
    "        return Indexing.NegativeBinomial\n",
    "    end\n",
    "    if isa(from,AbstractGaussian)\n",
    "        return Indexing.Gaussian\n",
    "    end\n",
    "    if isa(from,AbstractBinomial)\n",
    "        return Indexing.Binomial\n",
    "    end\n",
    "end\n",
    "\n",
    "\n",
    "\n",
    "function check(match_type::AbstractGaussian;input::Array{Float64,2})\n",
    "    \n",
    "end\n",
    "\n",
    "function check(match_type::AbstractBinomial;input::Array{Float64,2})\n",
    "    \n",
    "end\n",
    "\n",
    "\n",
    "function check(match_type::AbstractPoisson;input::Array{Float64,2})\n",
    "    \n",
    "end\n",
    "\n",
    "\n",
    "function check(match_type::AbstractNegativeBinomial;input::Array{Float64,2})\n",
    "    \n",
    "end\n",
    "\n",
    "function check(match_type::AbstractGamma;input::Array{Float64,2})\n",
    "    \n",
    "end\n",
    "\n",
    "end \n",
    "\n",
    "\n",
    "module Utilities\n",
    "\n",
    "using ..Concepts\n",
    "\n",
    "\n",
    "function Concepts.provide(object::Diagnostics{AbstractPoisson};\n",
    "                 input_data::Array{Float64} = nothing,\n",
    "                 reference::Array{Float64}  = nothing)\n",
    "    print(\"yeah\")!\n",
    "    return 0\n",
    "end\n",
    "\n",
    "\n",
    "\n",
    "\n",
    "function Concepts.provide(object::Int64,y=1)\n",
    "    print(\"hahah\");\n",
    "end\n",
    "\n",
    "\n",
    "\n",
    "end ## Uti\n",
    "\n",
    "\n",
    "# macro SET_API(a,b)\n",
    "   \n",
    "#    eval(Expr(:toplevel, :(using Base), :(using LinearAlgebra)))\n",
    "# end\n",
    "macro exportfun(ex)\n",
    "    fsym = ex.args[1].args[1]\n",
    "    exret = expr(:toplevel, Any[esc(ex), expr(:export, Any[fsym])])\n",
    "    println(exret)\n",
    "    return exret\n",
    "end\n",
    "\n",
    "\n",
    "#SET_API(provide,Concepts.provide)\n",
    "\n",
    "\n",
    "\n",
    "macro SET_API(a,b)\n",
    "   eval(Expr(:toplevel,:($a=$b),:(export $a)))\n",
    "end\n",
    "\n",
    "\n",
    "\n",
    "\n",
    "@SET_API(provide,Concepts.provide)\n",
    "# provide = Concepts.provide\n",
    "# export provide\n",
    "#using .Concepts\n",
    "#using .Utilities\n",
    "# # import .Utilities\n",
    "# import .Concepts:provide\n",
    "# #using .Utilities\n",
    "\n",
    "\n",
    "# export provide\n",
    "\n",
    "\n",
    "#export t\n",
    "\n",
    "\n",
    "\n",
    "#function t()\n",
    " #   Concepts.provide(1,1)\n",
    "  #  Concepts.provide()\n",
    "#end\n",
    "\n",
    "end ## Matrix\n",
    "\n",
    "\n"
   ]
  },
  {
   "cell_type": "code",
   "execution_count": 6,
   "metadata": {},
   "outputs": [
    {
     "name": "stdout",
     "output_type": "stream",
     "text": [
      "hahah"
     ]
    },
    {
     "name": "stderr",
     "output_type": "stream",
     "text": [
      "WARNING: replacing module Test.\n"
     ]
    },
    {
     "ename": "UndefVarError",
     "evalue": "UndefVarError: AbstractGamma not defined",
     "output_type": "error",
     "traceback": [
      "UndefVarError: AbstractGamma not defined",
      "",
      "Stacktrace:",
      " [1] top-level scope at none:0"
     ]
    }
   ],
   "source": [
    "module Test \n",
    "    using Main.MatrixCompletion_\n",
    "    #MatrixCompletion_.Concepts.provide(1,1)\n",
    "    #t()\n",
    "    provide(1,1)\n",
    "provide(Diagnostics{AbstractGamma()}(),1,1)\n",
    "#     using Main.MatrixCompletion_\n",
    "#     using Main.MatrixCompletion_.Concepts \n",
    "    \n",
    "#     using Main.MatrixCompletion_.Utilities.D\n",
    "#    # MatrixCompletion_.Concepts.provide(1,1)\n",
    "#     Concepts.provide(1,1)\n",
    "\n",
    "#     provide(Diagnostics())\n",
    "#     provide(Diagnostics{AbstractPoisson()}();input_data=1,reference=1)\n",
    "end"
   ]
  },
  {
   "cell_type": "code",
   "execution_count": 15,
   "metadata": {},
   "outputs": [
    {
     "ename": "UndefVarError",
     "evalue": "UndefVarError: Diagnostics not defined",
     "output_type": "error",
     "traceback": [
      "UndefVarError: Diagnostics not defined",
      "",
      "Stacktrace:",
      " [1] getproperty(::Module, ::Symbol) at ./sysimg.jl:13",
      " [2] top-level scope at In[15]:3"
     ]
    }
   ],
   "source": [
    "let\n",
    "    using Main.MatrixCompletion_\n",
    "    Main.MatrixCompletion_.Diagnostics\n",
    "end"
   ]
  },
  {
   "cell_type": "code",
   "execution_count": 16,
   "metadata": {},
   "outputs": [
    {
     "ename": "TypeError",
     "evalue": "TypeError: in Expr, expected Symbol, got Expr",
     "output_type": "error",
     "traceback": [
      "TypeError: in Expr, expected Symbol, got Expr",
      "",
      "Stacktrace:",
      " [1] Expr(::Any, ::Vararg{Any,N} where N) at ./boot.jl:221",
      " [2] top-level scope at In[16]:1"
     ]
    }
   ],
   "source": [
    "eval(Expr(:toplevel,\n",
    "        Expr(:(1+1))))"
   ]
  },
  {
   "cell_type": "code",
   "execution_count": 17,
   "metadata": {},
   "outputs": [
    {
     "data": {
      "text/plain": [
       "2"
      ]
     },
     "execution_count": 17,
     "metadata": {},
     "output_type": "execute_result"
    }
   ],
   "source": [
    "eval(Expr(:topvel:(1+1))"
   ]
  },
  {
   "cell_type": "code",
   "execution_count": 27,
   "metadata": {},
   "outputs": [],
   "source": [
    "eval(Expr(:toplevel, :(import Base), :(using LinearAlgebra)))"
   ]
  },
  {
   "cell_type": "code",
   "execution_count": 28,
   "metadata": {},
   "outputs": [
    {
     "data": {
      "text/plain": [
       "eigen (generic function with 14 methods)"
      ]
     },
     "execution_count": 28,
     "metadata": {},
     "output_type": "execute_result"
    }
   ],
   "source": [
    "eigen"
   ]
  },
  {
   "cell_type": "code",
   "execution_count": 30,
   "metadata": {},
   "outputs": [
    {
     "ename": "ErrorException",
     "evalue": "type Int64 has no field args",
     "output_type": "error",
     "traceback": [
      "type Int64 has no field args",
      "",
      "Stacktrace:",
      " [1] getproperty(::Any, ::Symbol) at ./sysimg.jl:18",
      " [2] top-level scope at In[30]:2"
     ]
    }
   ],
   "source": [
    "a=1\n",
    "a.args[1]"
   ]
  },
  {
   "cell_type": "code",
   "execution_count": 31,
   "metadata": {},
   "outputs": [
    {
     "data": {
      "text/plain": [
       "@SET_API (macro with 1 method)"
      ]
     },
     "execution_count": 31,
     "metadata": {},
     "output_type": "execute_result"
    }
   ],
   "source": [
    "macro SET_API(a,b)\n",
    "   \n",
    "   eval(Expr(:toplevel, :(a = b), :(export a)))\n",
    "end"
   ]
  },
  {
   "cell_type": "code",
   "execution_count": null,
   "metadata": {},
   "outputs": [],
   "source": [
    "SET_API()"
   ]
  }
 ],
 "metadata": {
  "kernelspec": {
   "display_name": "Julia 1.1.1",
   "language": "julia",
   "name": "julia-1.1"
  },
  "language_info": {
   "file_extension": ".jl",
   "mimetype": "application/julia",
   "name": "julia",
   "version": "1.1.1"
  }
 },
 "nbformat": 4,
 "nbformat_minor": 4
}
