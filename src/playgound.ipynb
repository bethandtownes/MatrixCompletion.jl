{
 "cells": [
  {
   "cell_type": "code",
   "execution_count": 20,
   "metadata": {},
   "outputs": [
    {
     "name": "stderr",
     "output_type": "stream",
     "text": [
      "┌ Info: Recompiling stale cache file /home/jasonsun0310/.julia/compiled/v1.1/MatrixCompletion/N0QZa.ji for MatrixCompletion [ed8b4348-a40e-11e9-0eb8-b76d3f7c2c42]\n",
      "└ @ Base loading.jl:1184\n",
      "ERROR: LoadError: LoadError: LoadError: syntax: invalid iteration specification\n",
      "Stacktrace:\n",
      " [1] include at ./boot.jl:326 [inlined]\n",
      " [2] include_relative(::Module, ::String) at ./loading.jl:1038\n",
      " [3] include at ./sysimg.jl:29 [inlined]\n",
      " [4] include(::String) at /home/jasonsun0310/.julia/dev/MatrixCompletion/src/Utilities/Utilities.jl:1\n",
      " [5] top-level scope at none:0\n",
      " [6] include at ./boot.jl:326 [inlined]\n",
      " [7] include_relative(::Module, ::String) at ./loading.jl:1038\n",
      " [8] include at ./sysimg.jl:29 [inlined]\n",
      " [9] include(::String) at /home/jasonsun0310/.julia/dev/MatrixCompletion/src/MatrixCompletion.jl:1\n",
      " [10] top-level scope at none:0\n",
      " [11] include at ./boot.jl:326 [inlined]\n",
      " [12] include_relative(::Module, ::String) at ./loading.jl:1038\n",
      " [13] include(::Module, ::String) at ./sysimg.jl:29\n",
      " [14] top-level scope at none:2\n",
      " [15] eval at ./boot.jl:328 [inlined]\n",
      " [16] eval(::Expr) at ./client.jl:404\n",
      " [17] top-level scope at ./none:3\n",
      "in expression starting at /home/jasonsun0310/.julia/dev/MatrixCompletion/src/Utilities/Indexing.jl:146\n",
      "in expression starting at /home/jasonsun0310/.julia/dev/MatrixCompletion/src/Utilities/Utilities.jl:5\n",
      "in expression starting at /home/jasonsun0310/.julia/dev/MatrixCompletion/src/MatrixCompletion.jl:6\n"
     ]
    },
    {
     "ename": "ErrorException",
     "evalue": "Failed to precompile MatrixCompletion [ed8b4348-a40e-11e9-0eb8-b76d3f7c2c42] to /home/jasonsun0310/.julia/compiled/v1.1/MatrixCompletion/N0QZa.ji.",
     "output_type": "error",
     "traceback": [
      "Failed to precompile MatrixCompletion [ed8b4348-a40e-11e9-0eb8-b76d3f7c2c42] to /home/jasonsun0310/.julia/compiled/v1.1/MatrixCompletion/N0QZa.ji.",
      "",
      "Stacktrace:",
      " [1] error(::String) at ./error.jl:33",
      " [2] compilecache(::Base.PkgId, ::String) at ./loading.jl:1197",
      " [3] _require(::Base.PkgId) at ./loading.jl:960",
      " [4] require(::Base.PkgId) at ./loading.jl:858",
      " [5] require(::Module, ::Symbol) at ./loading.jl:853",
      " [6] top-level scope at In[20]:1"
     ]
    }
   ],
   "source": [
    "using MatrixCompletion"
   ]
  },
  {
   "cell_type": "code",
   "execution_count": 21,
   "metadata": {},
   "outputs": [
    {
     "ename": "UndefVarError",
     "evalue": "UndefVarError: provide not defined",
     "output_type": "error",
     "traceback": [
      "UndefVarError: provide not defined",
      "",
      "Stacktrace:",
      " [1] top-level scope at In[21]:1"
     ]
    }
   ],
   "source": [
    "a = provide()\n",
    "\n",
    "function provide()\n",
    "    return 1;\n",
    "end"
   ]
  },
  {
   "cell_type": "code",
   "execution_count": 28,
   "metadata": {},
   "outputs": [],
   "source": [
    "using Distributions"
   ]
  },
  {
   "cell_type": "code",
   "execution_count": 24,
   "metadata": {},
   "outputs": [
    {
     "data": {
      "text/plain": [
       "UnionAll"
      ]
     },
     "execution_count": 24,
     "metadata": {},
     "output_type": "execute_result"
    }
   ],
   "source": [
    "typeof(Poisson)"
   ]
  },
  {
   "cell_type": "code",
   "execution_count": 26,
   "metadata": {},
   "outputs": [
    {
     "data": {
      "text/plain": [
       "Poisson{Float64}"
      ]
     },
     "execution_count": 26,
     "metadata": {},
     "output_type": "execute_result"
    }
   ],
   "source": [
    "t = Poisson(1);\n",
    "typeof(t)"
   ]
  },
  {
   "cell_type": "code",
   "execution_count": 27,
   "metadata": {},
   "outputs": [],
   "source": [
    "struct L{T} end "
   ]
  },
  {
   "cell_type": "code",
   "execution_count": 34,
   "metadata": {},
   "outputs": [
    {
     "data": {
      "text/plain": [
       "L{Poisson{Float64}(λ=1.0)}"
      ]
     },
     "execution_count": 34,
     "metadata": {},
     "output_type": "execute_result"
    }
   ],
   "source": [
    "a = L{Poisson()}"
   ]
  },
  {
   "cell_type": "code",
   "execution_count": 38,
   "metadata": {},
   "outputs": [
    {
     "ename": "MethodError",
     "evalue": "MethodError: no method matching test(::Type{L{Poisson{Float64}(λ=1.0)}})\nClosest candidates are:\n  test(!Matched::L{Poisson{Float64}}) at In[38]:2\n  test(!Matched::L{Poisson}) at In[37]:2",
     "output_type": "error",
     "traceback": [
      "MethodError: no method matching test(::Type{L{Poisson{Float64}(λ=1.0)}})\nClosest candidates are:\n  test(!Matched::L{Poisson{Float64}}) at In[38]:2\n  test(!Matched::L{Poisson}) at In[37]:2",
      "",
      "Stacktrace:",
      " [1] top-level scope at In[38]:4"
     ]
    }
   ],
   "source": [
    "function test(x::L{Poisson{Float64}1})\n",
    "    print(\"passed\")\n",
    "end\n",
    "test(a)"
   ]
  },
  {
   "cell_type": "code",
   "execution_count": 41,
   "metadata": {},
   "outputs": [
    {
     "name": "stdout",
     "output_type": "stream",
     "text": [
      "hello"
     ]
    }
   ],
   "source": [
    "abstract type Exp end\n",
    "struct Exp1 <:Exp end\n",
    "a = Exp1()\n",
    "typeof(a)\n",
    "function test(t::Exp)\n",
    "    if isa(t,Exp1)\n",
    "        print(\"hello\")\n",
    "    end\n",
    "end\n",
    "test(a)"
   ]
  },
  {
   "cell_type": "code",
   "execution_count": null,
   "metadata": {},
   "outputs": [],
   "source": []
  }
 ],
 "metadata": {
  "kernelspec": {
   "display_name": "Julia 1.1.1",
   "language": "julia",
   "name": "julia-1.1"
  },
  "language_info": {
   "file_extension": ".jl",
   "mimetype": "application/julia",
   "name": "julia",
   "version": "1.1.1"
  }
 },
 "nbformat": 4,
 "nbformat_minor": 4
}
