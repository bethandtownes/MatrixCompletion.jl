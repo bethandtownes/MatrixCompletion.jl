{
 "cells": [
  {
   "cell_type": "code",
   "execution_count": null,
   "metadata": {},
   "outputs": [],
   "source": [
    "module Concept\n",
    "\n",
    "export provide\n",
    "\n",
    "function provide(object::T=nothing,args...;kwargs...) where T<:Any\n",
    "    throw(DomainError(\"calling abstract method [provide], concrete implementation needed!\"))\n",
    "end\n",
    "\n",
    "end\n",
    "\n",
    "module Diagnostic\n",
    "using Main.Concept\n",
    "export YY\n",
    "struct YY end\n",
    "function Concept.provide(object::YY,x=nothing;keyarg=nothing)\n",
    "    println(\"diag\")\n",
    "    if !isnothing(x)\n",
    "        println(\"optional non kwarg\")\n",
    "    end\n",
    "    if !isnothing(keyarg)\n",
    "        println(\"keywordarg\")\n",
    "    end\n",
    "end\n",
    "end\n"
   ]
  },
  {
   "cell_type": "code",
   "execution_count": null,
   "metadata": {},
   "outputs": [],
   "source": [
    "module Concept\n",
    "\n",
    "export provide\n",
    "\n",
    "function provide(object::T=nothing,args...;kwargs...) where T<:Any\n",
    "    throw(DomainError(\"calling abstract method [provide], concrete implementation needed!\"))\n",
    "end\n",
    "\n",
    "end\n",
    "\n",
    "module Diagnostic\n",
    "using Main.Concept\n",
    "export YY\n",
    "struct YY end\n",
    "function Concept.provide(object::YY,x=nothing;keyarg=nothing)\n",
    "    println(\"diag\")\n",
    "    if !isnothing(x)\n",
    "        println(\"optional non kwarg\")\n",
    "    end\n",
    "    if !isnothing(keyarg)\n",
    "        println(\"keywordarg\")\n",
    "    end\n",
    "end\n",
    "end\n"
   ]
  },
  {
   "cell_type": "code",
   "execution_count": null,
   "metadata": {},
   "outputs": [],
   "source": [
    "using Main.Diagnostic,Main.Concept\n",
    "provide(YY())\n",
    "println(\"------------------------------\")\n",
    "provide(YY(),1,keyarg=\"haha\")\n",
    "println(\"------------------------------\")\n",
    "provide(YY(),keyarg=\"haha\")\n",
    "println(\"------------------------------\")\n",
    "provide(YY(),1)\n",
    "println(\"------------------------------\")\n",
    "provide()\n"
   ]
  },
  {
   "cell_type": "code",
   "execution_count": null,
   "metadata": {},
   "outputs": [],
   "source": [
    "module Test \n",
    "using Main.Diagnostic,Main.Concept\n",
    "\n",
    "provide(YY(),1,keyarg=\"haha\")\n",
    "println(\"------------------------------\")\n",
    "provide(YY(),keyarg=\"haha\")\n",
    "println(\"------------------------------\")\n",
    "provide(YY(),1)\n",
    "println(\"------------------------------\")\n",
    "provide()\n",
    "end"
   ]
  },
  {
   "cell_type": "code",
   "execution_count": null,
   "metadata": {},
   "outputs": [],
   "source": [
    "YY()"
   ]
  },
  {
   "cell_type": "code",
   "execution_count": null,
   "metadata": {},
   "outputs": [],
   "source": [
    "YY()"
   ]
  },
  {
   "cell_type": "code",
   "execution_count": null,
   "metadata": {},
   "outputs": [],
   "source": [
    "provide(1)"
   ]
  },
  {
   "cell_type": "code",
   "execution_count": null,
   "metadata": {},
   "outputs": [],
   "source": [
    "provide(YY())"
   ]
  },
  {
   "cell_type": "code",
   "execution_count": null,
   "metadata": {},
   "outputs": [],
   "source": []
  },
  {
   "cell_type": "code",
   "execution_count": null,
   "metadata": {},
   "outputs": [],
   "source": [
    "module MatrixCompletion_\n",
    "\n",
    "\n",
    "module Concepts\n",
    "\n",
    "#import Distributions\n",
    "#import Utilities.Indexing\n",
    "\n",
    "\n",
    "abstract type ExponentialFamily end \n",
    "struct AbstractBinomial         <: ExponentialFamily         end\n",
    "struct AbstractGaussian         <: ExponentialFamily         end\n",
    "struct AbstractPoisson          <: ExponentialFamily         end\n",
    "struct AbstractGamma            <: ExponentialFamily         end\n",
    "struct AbstractExponential      <: ExponentialFamily         end\n",
    "struct AbstractNegativeBinomial <: ExponentialFamily         end\n",
    "struct AbstractGeometric        <: ExponentialFamily         end\n",
    "\n",
    "\n",
    "abstract type AbstractDiagnostics end\n",
    "\n",
    "struct Diagnostics{T} end\n",
    "\n",
    "\n",
    "\n",
    "\n",
    "abstract type ErrorMetric end\n",
    "\n",
    "struct L0Distance <: ErrorMetric end\n",
    "struct L2Distance <: ErrorMetric end\n",
    "struct L1Distance <: ErrorMetric end\n",
    "\n",
    "\n",
    "@enum DIST_FLAGS Bernoulli Poisson Gaussian Gamma NegativeBinomial\n",
    "\n",
    "\n",
    "# Abstract Interface #\n",
    "\n",
    "export provide\n",
    "\n",
    "\n",
    "\n",
    "\n",
    "export ExponentialFamily,\n",
    "    AbstractBinomial,\n",
    "    AbstractGaussian,\n",
    "    AbstractGamma,\n",
    "    AbstractExponential,\n",
    "    AbstractPoisson,\n",
    "    DIST_FLAGS,\n",
    "    Bernoulli,\n",
    "    Poisson,\n",
    "    Gamma,\n",
    "    NegativeBinomial,\n",
    "    Gaussian\n",
    "\n",
    "\n",
    "export ErrorMetric,\n",
    "    L1Distance,\n",
    "    L2Distance,\n",
    "    L0Distance,\n",
    "    Diagnostics\n",
    "\n",
    "export convert_to_flag,\n",
    "    check\n",
    "    \n",
    "    \n",
    "#export provide\n",
    "\n",
    "function provide(object::T=nothing,arg...;kwargs...) where T<:Any\n",
    "    throw(DomainError(\"[provide]: calling abstract method. Concrete implementation needed\"))\n",
    "end\n",
    "\n",
    "\n",
    "\n",
    "function convert_to_flag(from::ExponentialFamily)\n",
    "    if isa(from,AbstractBinomial)\n",
    "        return Indexing.Binomial\n",
    "    end\n",
    "    if isa(from,AbstractGamma)\n",
    "        return Indexing.Gamma\n",
    "    end\n",
    "    if isa(from,AbstractNegativeBinomial)\n",
    "        return Indexing.NegativeBinomial\n",
    "    end\n",
    "    if isa(from,AbstractGaussian)\n",
    "        return Indexing.Gaussian\n",
    "    end\n",
    "    if isa(from,AbstractBinomial)\n",
    "        return Indexing.Binomial\n",
    "    end\n",
    "end\n",
    "\n",
    "\n",
    "\n",
    "function check(match_type::AbstractGaussian;input::Array{Float64,2})\n",
    "    \n",
    "end\n",
    "\n",
    "function check(match_type::AbstractBinomial;input::Array{Float64,2})\n",
    "    \n",
    "end\n",
    "\n",
    "\n",
    "function check(match_type::AbstractPoisson;input::Array{Float64,2})\n",
    "    \n",
    "end\n",
    "\n",
    "\n",
    "function check(match_type::AbstractNegativeBinomial;input::Array{Float64,2})\n",
    "    \n",
    "end\n",
    "\n",
    "function check(match_type::AbstractGamma;input::Array{Float64,2})\n",
    "    \n",
    "end\n",
    "\n",
    "end \n",
    "\n",
    "\n",
    "module Utilities\n",
    "\n",
    "using ..Concepts\n",
    "\n",
    "\n",
    "function Concepts.provide(object::Diagnostics{AbstractPoisson};\n",
    "                 input_data::Array{Float64} = nothing,\n",
    "                 reference::Array{Float64}  = nothing)\n",
    "    print(\"yeah\")\n",
    "    return 0\n",
    "end\n",
    "\n",
    "\n",
    "\n",
    "\n",
    "function Concepts.provide(object::Int64,y=1)\n",
    "    print(\"hahah\");\n",
    "end\n",
    "\n",
    "\n",
    "\n",
    "end ## Uti\n",
    "\n",
    "\n",
    "# macro SET_API(a,b)\n",
    "   \n",
    "#    eval(Expr(:toplevel, :(using Base), :(using LinearAlgebra)))\n",
    "# end\n",
    "macro exportfun(ex)\n",
    "    fsym = ex.args[1].args[1]\n",
    "    exret = expr(:toplevel, Any[esc(ex), expr(:export, Any[fsym])])\n",
    "    println(exret)\n",
    "    return exret\n",
    "end\n",
    "\n",
    "\n",
    "#SET_API(provide,Concepts.provide)\n",
    "\n",
    "\n",
    "\n",
    "macro SET_API(a,b)\n",
    "   eval(Expr(:toplevel,:($a=$b),:(export $a)))\n",
    "end\n",
    "\n",
    "\n",
    "\n",
    "using .Concepts\n",
    "\n",
    "\n",
    "@SET_API provide       Concepts.provide\n",
    "@SET_API AbstractGamma Concepts.AbstractGamma\n",
    "\n",
    "\n",
    "# provide = Concepts.provide\n",
    "# export provide\n",
    "#using .Concepts\n",
    "#using .Utilities\n",
    "# # import .Utilities\n",
    "# import .Concepts:provide\n",
    "# #using .Utilities\n",
    "\n",
    "\n",
    "# export provide\n",
    "\n",
    "\n",
    "#export t\n",
    "\n",
    "\n",
    "\n",
    "#function t()\n",
    " #   Concepts.provide(1,1)\n",
    "  #  Concepts.provide()\n",
    "#end\n",
    "\n",
    "end ## Matrix\n",
    "\n",
    "\n"
   ]
  },
  {
   "cell_type": "code",
   "execution_count": null,
   "metadata": {},
   "outputs": [],
   "source": [
    "module Test \n",
    "    using Main.MatrixCompletion_\n",
    "    #MatrixCompletion_.Concepts.provide(1,1)\n",
    "    #t()\n",
    "    provide(1,1)\n",
    "AbstractGamma()\n",
    "#provide(Diagnostics{AbstractGamma()}(),1,1)\n",
    "#     using Main.MatrixCompletion_\n",
    "#     using Main.MatrixCompletion_.Concepts \n",
    "    \n",
    "#     using Main.MatrixCompletion_.Utilities.D\n",
    "#    # MatrixCompletion_.Concepts.provide(1,1)\n",
    "#     Concepts.provide(1,1)\n",
    "\n",
    "#     provide(Diagnostics())\n",
    "#     provide(Diagnostics{AbstractPoisson()}();input_data=1,reference=1)\n",
    "end"
   ]
  },
  {
   "cell_type": "code",
   "execution_count": null,
   "metadata": {},
   "outputs": [],
   "source": [
    "let\n",
    "    using Main.MatrixCompletion_\n",
    "    Main.MatrixCompletion_.Diagnostics\n",
    "end"
   ]
  },
  {
   "cell_type": "code",
   "execution_count": null,
   "metadata": {},
   "outputs": [],
   "source": [
    "eval(Expr(:toplevel,\n",
    "        Expr(:(1+1))))"
   ]
  },
  {
   "cell_type": "code",
   "execution_count": null,
   "metadata": {},
   "outputs": [],
   "source": [
    "eval(Expr(:topvel:(1+1))"
   ]
  },
  {
   "cell_type": "code",
   "execution_count": null,
   "metadata": {},
   "outputs": [],
   "source": [
    "eval(Expr(:toplevel, :(import Base), :(using LinearAlgebra)))"
   ]
  },
  {
   "cell_type": "code",
   "execution_count": null,
   "metadata": {},
   "outputs": [],
   "source": [
    "eigen"
   ]
  },
  {
   "cell_type": "code",
   "execution_count": null,
   "metadata": {},
   "outputs": [],
   "source": [
    "a=1\n",
    "a.args[1]"
   ]
  },
  {
   "cell_type": "code",
   "execution_count": null,
   "metadata": {},
   "outputs": [],
   "source": [
    "macro SET_API(a,b)\n",
    "   \n",
    "   eval(Expr(:toplevel, :(a = b), :(export a)))\n",
    "end"
   ]
  },
  {
   "cell_type": "code",
   "execution_count": null,
   "metadata": {},
   "outputs": [],
   "source": [
    "SET_API()"
   ]
  },
  {
   "cell_type": "code",
   "execution_count": null,
   "metadata": {},
   "outputs": [],
   "source": [
    "function parametric_array(;input=Array{Float64,N}) where N<:Integer\n",
    "    print(input);\n",
    "end"
   ]
  },
  {
   "cell_type": "code",
   "execution_count": null,
   "metadata": {},
   "outputs": [],
   "source": [
    "parametric_array(input=1.0)\n",
    "println()\n",
    "parametric_array(input=rand(2,2))"
   ]
  },
  {
   "cell_type": "code",
   "execution_count": null,
   "metadata": {},
   "outputs": [],
   "source": [
    "struct Hash1{T} end where T<:Integer\n",
    "struct Hash2 end \n",
    "\n",
    "Dict(Hash1() => 1)"
   ]
  },
  {
   "cell_type": "code",
   "execution_count": null,
   "metadata": {},
   "outputs": [],
   "source": [
    "module testhash\n",
    "struct LpDistance end\n",
    "a = Hash{1}()\n",
    "end"
   ]
  },
  {
   "cell_type": "code",
   "execution_count": 3,
   "metadata": {},
   "outputs": [
    {
     "name": "stderr",
     "output_type": "stream",
     "text": [
      "WARNING: replacing module testLP.\n"
     ]
    },
    {
     "data": {
      "text/plain": [
       "Main.testLP"
      ]
     },
     "execution_count": 3,
     "metadata": {},
     "output_type": "execute_result"
    }
   ],
   "source": [
    "module testLP\n",
    "using MatrixCompletion\n",
    "#LpSpace(1)  ## not workable \n",
    "MatrixCompletion.Concepts.LpSpace(1)\n",
    "end"
   ]
  },
  {
   "cell_type": "code",
   "execution_count": 5,
   "metadata": {},
   "outputs": [
    {
     "data": {
      "text/plain": [
       "Pair{Int64,String}"
      ]
     },
     "execution_count": 5,
     "metadata": {},
     "output_type": "execute_result"
    }
   ],
   "source": [
    "typeof(1=>\"one\")"
   ]
  },
  {
   "cell_type": "code",
   "execution_count": null,
   "metadata": {},
   "outputs": [],
   "source": []
  }
 ],
 "metadata": {
  "kernelspec": {
   "display_name": "Julia 1.1.1",
   "language": "julia",
   "name": "julia-1.1"
  },
  "language_info": {
   "file_extension": ".jl",
   "mimetype": "application/julia",
   "name": "julia",
   "version": "1.1.1"
  }
 },
 "nbformat": 4,
 "nbformat_minor": 4
}
