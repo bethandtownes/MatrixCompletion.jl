{
 "cells": [
  {
   "cell_type": "code",
   "execution_count": 59,
   "metadata": {},
   "outputs": [
    {
     "data": {
      "text/plain": [
       "unit_test_train_subloss (generic function with 2 methods)"
      ]
     },
     "execution_count": 59,
     "metadata": {},
     "output_type": "execute_result"
    }
   ],
   "source": [
    "using Test,TimerOutputs,Printf\n",
    "using MatrixCompletion.Losses\n",
    "using MatrixCompletion.Concepts\n",
    "import Random,Distributions\n",
    "\n",
    "\n",
    "\n",
    "\n",
    "function forword_map(distribution::AbstractPoisson,\n",
    "                         canonical_parameter::Array{Float64,1};\n",
    "                         non_canonical_parameter::Union{Array{Float64},Nothing} = nothing,\n",
    "                         non_canonical_map = nothing)\n",
    "    if !isnothing(non_canonical_parameter)\n",
    "        ## TODO\n",
    "    end\n",
    "    return exp.(canonical_parameter)    \n",
    "end\n",
    "\n",
    "\n",
    "function predict(distribution::AbstractPoisson,input::Array{Float64,1};\n",
    "                 non_canonical_prediction_map = nothing)\n",
    "    if !isnothing(non_canonical_prediction_map)\n",
    "        #TODO\n",
    "    end\n",
    "    return round.(input)\n",
    "end\n",
    "\n",
    "\n",
    "function forword_map(distribution::AbstractGamma,\n",
    "                         canonical_parameter::Array{Float64,1};\n",
    "                         non_canonical_parameter::Union{Array{Float64},Nothing} = nothing,\n",
    "                         non_canonical_map = nothing)\n",
    "    if !isnothing(non_canonical_parameter)\n",
    "        ## TODO\n",
    "    end\n",
    "    return canonical_parameter\n",
    "end\n",
    "\n",
    "\n",
    "function predict(distribution::AbstractGamma,input::Array{Float64,1};\n",
    "                 non_canonical_prediction_map = nothing)\n",
    "    if !isnothing(non_canonical_prediction_map)\n",
    "        #TODO\n",
    "    end\n",
    "    return input # \n",
    "end\n",
    "\n",
    "\n",
    "\n",
    "\n",
    "\n",
    "function unit_test_train_subloss(dist       = AbstractPoisson();\n",
    "                                 gradient_eval      = Losses.provide(Loss{AbstractPoisson}()),\n",
    "                                 input_distribution = Distributions.Poisson(5),\n",
    "                                 input_size         = 500,\n",
    "                                 ρ = 0,\n",
    "                                 step_size = 0.1,\n",
    "                                 max_iter = 100)\n",
    "    y = Random.rand(input_distribution, input_size) * 1.0\n",
    "    mle_x = train(gradient_eval,\n",
    "                  fx    = rand(input_size),\n",
    "                  y     = y,\n",
    "                  c     = zeros(input_size),\n",
    "                  ρ     = ρ,\n",
    "                  iter  = max_iter,\n",
    "                  γ     = step_size);\n",
    "    prediction = predict(dist,forword_map(dist,mle_x))\n",
    "    errRate = sum(abs.(prediction .- y) .> 1) / input_size;\n",
    "    return 1- errRate;\n",
    "end\n"
   ]
  },
  {
   "cell_type": "code",
   "execution_count": 69,
   "metadata": {},
   "outputs": [
    {
     "data": {
      "text/plain": [
       "Loss{AbstractGamma}()"
      ]
     },
     "execution_count": 69,
     "metadata": {},
     "output_type": "execute_result"
    }
   ],
   "source": [
    "dist = AbstractGamma()\n",
    "input_distribution = Distributions.Gamma(5,10)\n",
    "input_size = 500\n",
    "y = Random.rand(input_distribution, input_size) * 1.0\n",
    "ρ = 0\n",
    "step_size = 0.01\n",
    "max_iter = 200\n",
    "gradient_eval = Loss{AbstractGamma}()\n"
   ]
  },
  {
   "cell_type": "code",
   "execution_count": 70,
   "metadata": {},
   "outputs": [
    {
     "data": {
      "text/plain": [
       "20-element Array{Float64,1}:\n",
       " 28.57301273199349 \n",
       " 29.246725486626875\n",
       " 90.20126555332095 \n",
       " 49.362184616472774\n",
       " 77.32505013712259 \n",
       " 29.550417294715338\n",
       " 61.35045230198071 \n",
       " 27.005744475998064\n",
       " 58.58169878673729 \n",
       " 26.769351285495198\n",
       " 13.07846467227337 \n",
       " 66.05724416658462 \n",
       " 28.116484639658935\n",
       " 59.20697037598515 \n",
       " 57.97443440137112 \n",
       " 67.06547127849412 \n",
       " 39.29582501500866 \n",
       " 68.88776982811092 \n",
       " 53.90819414197207 \n",
       " 60.61227018667597 "
      ]
     },
     "execution_count": 70,
     "metadata": {},
     "output_type": "execute_result"
    }
   ],
   "source": [
    "y[1:20]"
   ]
  },
  {
   "cell_type": "code",
   "execution_count": 60,
   "metadata": {},
   "outputs": [],
   "source": [
    "using MatrixCompletion.Losses"
   ]
  },
  {
   "cell_type": "code",
   "execution_count": 71,
   "metadata": {},
   "outputs": [
    {
     "data": {
      "text/plain": [
       "20-element Array{Float64,1}:\n",
       " 2.0253958398202116e-6\n",
       " 2.0253958398202116e-6\n",
       " 2.0253958398202116e-6\n",
       " 2.0253958398202116e-6\n",
       " 2.0253958398202116e-6\n",
       " 2.0253958398202116e-6\n",
       " 2.0253958398202116e-6\n",
       " 2.0253958398202116e-6\n",
       " 2.0253958398202116e-6\n",
       " 2.0253958398202116e-6\n",
       " 2.0253958398202116e-6\n",
       " 2.0253958398202116e-6\n",
       " 2.0253958398202116e-6\n",
       " 2.0253958398202116e-6\n",
       " 2.0253958398202116e-6\n",
       " 2.0253958398202116e-6\n",
       " 2.0253958398202116e-6\n",
       " 2.0253958398202116e-6\n",
       " 2.0253958398202116e-6\n",
       " 2.0253958398202116e-6"
      ]
     },
     "execution_count": 71,
     "metadata": {},
     "output_type": "execute_result"
    }
   ],
   "source": [
    "\n",
    "mle_x = train(\n",
    "                  gradient_eval,\n",
    "                  fx    = ones(input_size),\n",
    "                  y     = y,\n",
    "                  c     = zeros(input_size),\n",
    "                  ρ     = ρ,\n",
    "                  iter  = 200,\n",
    "                  γ     = 0.1,\n",
    "                  verbose = false);\n",
    "-1 ./ mle_x[1:20]"
   ]
  },
  {
   "cell_type": "code",
   "execution_count": 230,
   "metadata": {},
   "outputs": [
    {
     "data": {
      "text/plain": [
       "1000×1 Array{Float64,2}:\n",
       " -1.1102230246251565e-15\n",
       " -6.661338147750939e-16 \n",
       "  0.0                   \n",
       " -4.440892098500626e-16 \n",
       " -8.881784197001252e-16 \n",
       "  0.023974107844672576  \n",
       "  4.440892098500626e-16 \n",
       " -4.440892098500626e-16 \n",
       " -4.440892098500626e-16 \n",
       "  1.986899533790165e-11 \n",
       " -2.6618707238412753e-12\n",
       " -6.661338147750939e-16 \n",
       " -4.440892098500626e-16 \n",
       "  ⋮                     \n",
       "  4.440892098500626e-16 \n",
       " -5.271560965525168e-11 \n",
       "  4.2228104790709153e-8 \n",
       "  4.117665397096459e-6  \n",
       "  1.1102230246251565e-15\n",
       " -4.440892098500626e-16 \n",
       "  0.0                   \n",
       " -4.440892098500626e-16 \n",
       "  0.0                   \n",
       "  8.650051475489473e-5  \n",
       "  1.6063907068986083e-6 \n",
       "  1.4021480421178012e-8 "
      ]
     },
     "execution_count": 230,
     "metadata": {},
     "output_type": "execute_result"
    }
   ],
   "source": [
    "\n",
    "\n",
    "using AutoGrad\n",
    "using LinearAlgebra\n",
    "function gammaLoss0(x,y,alpha)\n",
    "    return 1/alpha * sum(y .* x .- norm(log.(complex(x))))\n",
    "end\n",
    "\n",
    "# function gammaLoss(x,y,alpha,c,rho)\n",
    "# #     return 1/alpha * sum(y .* (1./x) + log(x))\n",
    "#     return 1/alpha * sum(y .* x .- log.(x)) + sum(rho .* (x .- c).^2)\n",
    "\n",
    "# end\n",
    "\n",
    "\n",
    "function gammaLoss(x,y,alpha,c,rho)\n",
    "#     return 1/alpha * sum(y .* (1./x) + log(x))\n",
    "    return  sum(y .* x .- log.(x)) + sum(rho .* (x .- c).^2)\n",
    "\n",
    "end\n",
    "\n",
    "\n",
    "function gammaLossG(x,y,alpha,c,rho)\n",
    "#     return 1/alpha * sum(y .* (1./x) + log(x))\n",
    "    return  (y .- 1 ./ x) .+ 2 .* rho .* (x .- c)\n",
    "end\n",
    "\n",
    "\n",
    "\n",
    "lossGammaGradient = AutoGrad.grad(gammaLoss);\n",
    "\n",
    "\n",
    "function trainGamma(x,y,alpha,c,rho;iter=500,stepSize = 0.02)\n",
    "\n",
    "     curFx = x;\n",
    "     iterCounter = 0;\n",
    "     gamma_ = stepSize;\n",
    "     precision_ = 1e-8;\n",
    "     previousStepSize = 1;\n",
    "\n",
    "\n",
    "    while previousStepSize > precision_\n",
    "        prevFx = curFx;\n",
    "        #curFx -= gamma_ .* lossGammaGradient(prevFx,y,alpha,c,rho);\n",
    "        curFx =curFx .- gamma_ .* gammaLossG(prevFx,y,alpha,c,rho);\n",
    "\n",
    "        previousStepSize = norm(curFx - prevFx);\n",
    "        iterCounter += 1;\n",
    "        if iterCounter > iter\n",
    "            break;\n",
    "        end\n",
    "#         if rem(iterCounter,50) == 1\n",
    "#             println(gammaLoss(curFx,y,alpha,c,rho));\n",
    "#         end\n",
    "    end\n",
    "    return curFx;\n",
    "end\n",
    "\n",
    "\n",
    "function randomMatrixGamma(row::Int =1,col::Int=1,targetRank::Int=1,rate::Int=10)\n",
    "    p = Distributions.Poisson(rate)\n",
    "    baseMatrix = rand(p,row,targetRank)\n",
    "    for remaining = 1:col-targetRank\n",
    "        baseMatrix = hcat(baseMatrix,baseMatrix[:,StatsBase.sample(1:targetRank)])\n",
    "    end\n",
    "    return baseMatrix*1.0;\n",
    "end\n",
    "\n",
    "    \n",
    "p = Distributions.Gamma(5,0.5)\n",
    "data = rand(p,1000)*1.0\n",
    "\n",
    "#result = trainGamma(ones(1000,1)*2,data,5,ones(1000,1)*2.0,0.005,stepSize=0.02,iter=10000)\n",
    "\n",
    "result = trainGamma(rand(1000,1),data,1000,ones(1000,1)*2.0,0,stepSize=0.05,iter=200)\n",
    "\n",
    "\n",
    "(1 ./ result)  - data\n"
   ]
  },
  {
   "cell_type": "code",
   "execution_count": 148,
   "metadata": {},
   "outputs": [
    {
     "data": {
      "text/plain": [
       "1.710257805335832"
      ]
     },
     "execution_count": 148,
     "metadata": {},
     "output_type": "execute_result"
    }
   ],
   "source": [
    "rand(Distributions.Gamma(5,0.))"
   ]
  },
  {
   "cell_type": "code",
   "execution_count": 113,
   "metadata": {},
   "outputs": [
    {
     "name": "stdout",
     "output_type": "stream",
     "text": [
      "\u001b[37m\u001b[1mTest Summary:                                                                    | \u001b[22m\u001b[39m\u001b[32m\u001b[1mPass  \u001b[22m\u001b[39m\u001b[36m\u001b[1mTotal\u001b[22m\u001b[39m\n",
      "Optimizer: Poisson Loss [Small][Forgiving][AutoGrad]⋅⋅⋅⋅⋅⋅⋅⋅⋅⋅⋅⋅⋅⋅⋅⋅⋅⋅⋅⋅⋅⋅⋅⋅⋅⋅⋅⋅ | \u001b[32m   6  \u001b[39m\u001b[36m    6\u001b[39m\n",
      "\u001b[37m\u001b[1mTest Summary:                                                                    | \u001b[22m\u001b[39m\u001b[32m\u001b[1mPass  \u001b[22m\u001b[39m\u001b[36m\u001b[1mTotal\u001b[22m\u001b[39m\n",
      "Optimizer: Poisson Loss [Small][Forgiving][Native]⋅⋅⋅⋅⋅⋅⋅⋅⋅⋅⋅⋅⋅⋅⋅⋅⋅⋅⋅⋅⋅⋅⋅⋅⋅⋅⋅⋅⋅⋅ | \u001b[32m   6  \u001b[39m\u001b[36m    6\u001b[39m\n",
      "\u001b[37mOptimizer: Gamma Loss [Small][Forgiving][Native]⋅⋅⋅⋅⋅⋅⋅⋅⋅⋅⋅⋅⋅⋅⋅⋅⋅⋅⋅⋅⋅⋅⋅⋅⋅⋅⋅⋅⋅⋅⋅⋅: \u001b[39m\u001b[91m\u001b[1mTest Failed\u001b[22m\u001b[39m at \u001b[39m\u001b[1m/home/jasonsun0310/.julia/dev/MatrixCompletion/test/test_impl_gammaloss.jl:3\u001b[22m\n",
      "  Expression: unit_test_train_subloss(AbstractGamma(), gradient_eval=Loss{AbstractGamma}(), input_distribution=Distributions.Gamma(5, 10), input_size=1000, ρ=0, step_size=0.1, max_iter=100) > 0.9\n",
      "   Evaluated: 0.0 > 0.9\n",
      "Stacktrace:\n",
      " [1] top-level scope at \u001b[1m/home/jasonsun0310/.julia/dev/MatrixCompletion/test/test_impl_gammaloss.jl:3\u001b[22m\n",
      " [2] top-level scope at \u001b[1m/home/jasonsun0310/.julia/packages/TimerOutputs/7zSea/src/TimerOutput.jl:216\u001b[22m\n",
      " [3] top-level scope at \u001b[1m/home/jasonsun0310/.julia/dev/MatrixCompletion/test/test_impl_gammaloss.jl:2\u001b[22m\n",
      " [4] top-level scope at \u001b[1m/home/jasonsun0310/scitools/julia/usr/share/julia/stdlib/v1.1/Test/src/Test.jl:1083\u001b[22m\n",
      " [5] top-level scope at \u001b[1m/home/jasonsun0310/.julia/dev/MatrixCompletion/test/test_impl_gammaloss.jl:2\u001b[22m\n",
      "\u001b[37mOptimizer: Gamma Loss [Small][Forgiving][Native]⋅⋅⋅⋅⋅⋅⋅⋅⋅⋅⋅⋅⋅⋅⋅⋅⋅⋅⋅⋅⋅⋅⋅⋅⋅⋅⋅⋅⋅⋅⋅⋅: \u001b[39m\u001b[91m\u001b[1mTest Failed\u001b[22m\u001b[39m at \u001b[39m\u001b[1m/home/jasonsun0310/.julia/dev/MatrixCompletion/test/test_impl_gammaloss.jl:10\u001b[22m\n",
      "  Expression: unit_test_train_subloss(AbstractGamma(), gradient_eval=Loss{AbstractGamma}(), input_distribution=Distributions.Gamma(5, 10), input_size=3000, ρ=0, step_size=0.1, max_iter=100) > 0.9\n",
      "   Evaluated: 0.0 > 0.9\n",
      "Stacktrace:\n",
      " [1] top-level scope at \u001b[1m/home/jasonsun0310/.julia/dev/MatrixCompletion/test/test_impl_gammaloss.jl:10\u001b[22m\n",
      " [2] top-level scope at \u001b[1m/home/jasonsun0310/.julia/packages/TimerOutputs/7zSea/src/TimerOutput.jl:216\u001b[22m\n",
      " [3] top-level scope at \u001b[1m/home/jasonsun0310/.julia/dev/MatrixCompletion/test/test_impl_gammaloss.jl:2\u001b[22m\n",
      " [4] top-level scope at \u001b[1m/home/jasonsun0310/scitools/julia/usr/share/julia/stdlib/v1.1/Test/src/Test.jl:1083\u001b[22m\n",
      " [5] top-level scope at \u001b[1m/home/jasonsun0310/.julia/dev/MatrixCompletion/test/test_impl_gammaloss.jl:2\u001b[22m\n",
      "\u001b[37mOptimizer: Gamma Loss [Small][Forgiving][Native]⋅⋅⋅⋅⋅⋅⋅⋅⋅⋅⋅⋅⋅⋅⋅⋅⋅⋅⋅⋅⋅⋅⋅⋅⋅⋅⋅⋅⋅⋅⋅⋅: \u001b[39m\u001b[91m\u001b[1mTest Failed\u001b[22m\u001b[39m at \u001b[39m\u001b[1m/home/jasonsun0310/.julia/dev/MatrixCompletion/test/test_impl_gammaloss.jl:17\u001b[22m\n",
      "  Expression: unit_test_train_subloss(AbstractGamma(), gradient_eval=Loss{AbstractGamma}(), input_distribution=Distributions.Gamma(5, 10), input_size=5000, ρ=0, step_size=0.1, max_iter=100) > 0.9\n",
      "   Evaluated: 0.0 > 0.9\n",
      "Stacktrace:\n",
      " [1] top-level scope at \u001b[1m/home/jasonsun0310/.julia/dev/MatrixCompletion/test/test_impl_gammaloss.jl:17\u001b[22m\n",
      " [2] top-level scope at \u001b[1m/home/jasonsun0310/.julia/packages/TimerOutputs/7zSea/src/TimerOutput.jl:216\u001b[22m\n",
      " [3] top-level scope at \u001b[1m/home/jasonsun0310/.julia/dev/MatrixCompletion/test/test_impl_gammaloss.jl:2\u001b[22m\n",
      " [4] top-level scope at \u001b[1m/home/jasonsun0310/scitools/julia/usr/share/julia/stdlib/v1.1/Test/src/Test.jl:1083\u001b[22m\n",
      " [5] top-level scope at \u001b[1m/home/jasonsun0310/.julia/dev/MatrixCompletion/test/test_impl_gammaloss.jl:2\u001b[22m\n",
      "\u001b[37mOptimizer: Gamma Loss [Small][Forgiving][Native]⋅⋅⋅⋅⋅⋅⋅⋅⋅⋅⋅⋅⋅⋅⋅⋅⋅⋅⋅⋅⋅⋅⋅⋅⋅⋅⋅⋅⋅⋅⋅⋅: \u001b[39m\u001b[91m\u001b[1mTest Failed\u001b[22m\u001b[39m at \u001b[39m\u001b[1m/home/jasonsun0310/.julia/dev/MatrixCompletion/test/test_impl_gammaloss.jl:24\u001b[22m\n",
      "  Expression: unit_test_train_subloss(AbstractGamma(), gradient_eval=Loss{AbstractGamma}(), input_distribution=Distributions.Gamma(5, 10), input_size=1000, ρ=0.2, step_size=0.1, max_iter=100) > 0.9\n",
      "   Evaluated: 0.0 > 0.9\n",
      "Stacktrace:\n",
      " [1] top-level scope at \u001b[1m/home/jasonsun0310/.julia/dev/MatrixCompletion/test/test_impl_gammaloss.jl:24\u001b[22m\n",
      " [2] top-level scope at \u001b[1m/home/jasonsun0310/.julia/packages/TimerOutputs/7zSea/src/TimerOutput.jl:216\u001b[22m\n",
      " [3] top-level scope at \u001b[1m/home/jasonsun0310/.julia/dev/MatrixCompletion/test/test_impl_gammaloss.jl:2\u001b[22m\n",
      " [4] top-level scope at \u001b[1m/home/jasonsun0310/scitools/julia/usr/share/julia/stdlib/v1.1/Test/src/Test.jl:1083\u001b[22m\n",
      " [5] top-level scope at \u001b[1m/home/jasonsun0310/.julia/dev/MatrixCompletion/test/test_impl_gammaloss.jl:2\u001b[22m\n",
      "\u001b[37mOptimizer: Gamma Loss [Small][Forgiving][Native]⋅⋅⋅⋅⋅⋅⋅⋅⋅⋅⋅⋅⋅⋅⋅⋅⋅⋅⋅⋅⋅⋅⋅⋅⋅⋅⋅⋅⋅⋅⋅⋅: \u001b[39m\u001b[91m\u001b[1mTest Failed\u001b[22m\u001b[39m at \u001b[39m\u001b[1m/home/jasonsun0310/.julia/dev/MatrixCompletion/test/test_impl_gammaloss.jl:31\u001b[22m\n",
      "  Expression: unit_test_train_subloss(AbstractGamma(), gradient_eval=Loss{AbstractGamma}(), input_distribution=Distributions.Gamma(5, 10), input_size=3000, ρ=0.2, step_size=0.1, max_iter=100) > 0.9\n",
      "   Evaluated: 0.0 > 0.9\n",
      "Stacktrace:\n",
      " [1] top-level scope at \u001b[1m/home/jasonsun0310/.julia/dev/MatrixCompletion/test/test_impl_gammaloss.jl:31\u001b[22m\n",
      " [2] top-level scope at \u001b[1m/home/jasonsun0310/.julia/packages/TimerOutputs/7zSea/src/TimerOutput.jl:216\u001b[22m\n",
      " [3] top-level scope at \u001b[1m/home/jasonsun0310/.julia/dev/MatrixCompletion/test/test_impl_gammaloss.jl:2\u001b[22m\n",
      " [4] top-level scope at \u001b[1m/home/jasonsun0310/scitools/julia/usr/share/julia/stdlib/v1.1/Test/src/Test.jl:1083\u001b[22m\n",
      " [5] top-level scope at \u001b[1m/home/jasonsun0310/.julia/dev/MatrixCompletion/test/test_impl_gammaloss.jl:2\u001b[22m\n",
      "\u001b[37mOptimizer: Gamma Loss [Small][Forgiving][Native]⋅⋅⋅⋅⋅⋅⋅⋅⋅⋅⋅⋅⋅⋅⋅⋅⋅⋅⋅⋅⋅⋅⋅⋅⋅⋅⋅⋅⋅⋅⋅⋅: \u001b[39m\u001b[91m\u001b[1mTest Failed\u001b[22m\u001b[39m at \u001b[39m\u001b[1m/home/jasonsun0310/.julia/dev/MatrixCompletion/test/test_impl_gammaloss.jl:37\u001b[22m\n",
      "  Expression: unit_test_train_subloss(AbstractGamma(), gradient_eval=Loss{AbstractGamma}(), input_distribution=Distributions.Gamma(5, 10), input_size=5000, ρ=0.2, step_size=0.1, max_iter=100) > 0.9\n",
      "   Evaluated: 0.0 > 0.9\n",
      "Stacktrace:\n",
      " [1] top-level scope at \u001b[1m/home/jasonsun0310/.julia/packages/TimerOutputs/7zSea/src/TimerOutput.jl:216\u001b[22m\n",
      " [2] top-level scope at \u001b[1m/home/jasonsun0310/.julia/dev/MatrixCompletion/test/test_impl_gammaloss.jl:2\u001b[22m\n",
      " [3] top-level scope at \u001b[1m/home/jasonsun0310/scitools/julia/usr/share/julia/stdlib/v1.1/Test/src/Test.jl:1083\u001b[22m\n",
      " [4] top-level scope at \u001b[1m/home/jasonsun0310/.julia/dev/MatrixCompletion/test/test_impl_gammaloss.jl:2\u001b[22m\n",
      "\u001b[37m\u001b[1mTest Summary:                                                                    | \u001b[22m\u001b[39m\u001b[91m\u001b[1mFail  \u001b[22m\u001b[39m\u001b[36m\u001b[1mTotal\u001b[22m\u001b[39m\n",
      "Optimizer: Gamma Loss [Small][Forgiving][Native]⋅⋅⋅⋅⋅⋅⋅⋅⋅⋅⋅⋅⋅⋅⋅⋅⋅⋅⋅⋅⋅⋅⋅⋅⋅⋅⋅⋅⋅⋅⋅⋅ | \u001b[91m   6  \u001b[39m\u001b[36m    6\u001b[39m\n"
     ]
    },
    {
     "ename": "LoadError",
     "evalue": "LoadError: LoadError: Some tests did not pass: 0 passed, 6 failed, 0 errored, 0 broken.\nin expression starting at /home/jasonsun0310/.julia/dev/MatrixCompletion/test/test_impl_gammaloss.jl:1\nin expression starting at /home/jasonsun0310/.julia/dev/MatrixCompletion/test/test_runner_poisson_loss.jl:82",
     "output_type": "error",
     "traceback": [
      "LoadError: LoadError: Some tests did not pass: 0 passed, 6 failed, 0 errored, 0 broken.\nin expression starting at /home/jasonsun0310/.julia/dev/MatrixCompletion/test/test_impl_gammaloss.jl:1\nin expression starting at /home/jasonsun0310/.julia/dev/MatrixCompletion/test/test_runner_poisson_loss.jl:82",
      "",
      "Stacktrace:",
      " [1] finish(::Test.DefaultTestSet) at /home/jasonsun0310/scitools/julia/usr/share/julia/stdlib/v1.1/Test/src/Test.jl:847",
      " [2] top-level scope at /home/jasonsun0310/scitools/julia/usr/share/julia/stdlib/v1.1/Test/src/Test.jl:1093",
      " [3] top-level scope at /home/jasonsun0310/.julia/dev/MatrixCompletion/test/test_impl_gammaloss.jl:2",
      " [4] include at ./boot.jl:326 [inlined]",
      " [5] include_relative(::Module, ::String) at ./loading.jl:1038",
      " [6] include(::Module, ::String) at ./sysimg.jl:29",
      " [7] include(::String) at ./client.jl:403",
      " [8] top-level scope at none:0",
      " [9] include at ./boot.jl:326 [inlined]",
      " [10] include_relative(::Module, ::String) at ./loading.jl:1038",
      " [11] include(::Module, ::String) at ./sysimg.jl:29",
      " [12] include(::String) at ./client.jl:403",
      " [13] top-level scope at none:0",
      " [14] include at ./boot.jl:326 [inlined]",
      " [15] include_relative(::Module, ::String) at ./loading.jl:1038",
      " [16] include(::Module, ::String) at ./sysimg.jl:29",
      " [17] include(::String) at ./client.jl:403",
      " [18] top-level scope at In[113]:1"
     ]
    }
   ],
   "source": [
    "include(\"../test/runtests.jl\")"
   ]
  },
  {
   "cell_type": "code",
   "execution_count": 8,
   "metadata": {},
   "outputs": [],
   "source": [
    "using PlotlyJS"
   ]
  },
  {
   "cell_type": "code",
   "execution_count": 32,
   "metadata": {},
   "outputs": [
    {
     "data": {
      "application/vnd.plotly.v1+json": {
       "data": [
        {
         "type": "scatter",
         "x": [
          1
         ],
         "y": [
          1
         ]
        }
       ],
       "layout": {
        "autosize": true,
        "margin": {
         "b": 50,
         "l": 50,
         "r": 50,
         "t": 60
        },
        "xaxis": {
         "autorange": true,
         "range": [
          0,
          2
         ],
         "type": "linear"
        },
        "yaxis": {
         "autorange": true,
         "range": [
          0,
          2
         ],
         "type": "linear"
        }
       }
      },
      "application/vnd.webio.node+json": {
       "children": [
        {
         "children": [],
         "instanceArgs": {
          "namespace": "html",
          "tag": "div"
         },
         "nodeType": "DOM",
         "props": {
          "id": "plot-89ba62b9-9c35-4233-877c-da0e29875dab"
         },
         "type": "node"
        }
       ],
       "instanceArgs": {
        "handlers": {
         "__get_gd_contents": [
          "(function (prop){prop==\"data\" ? (WebIO.setval({\"name\":\"__gd_contents\",\"scope\":\"1668969297293354733\",\"id\":\"ob_726\",\"type\":\"observable\"},this.plotElem.data)) : undefined; return prop==\"layout\" ? (WebIO.setval({\"name\":\"__gd_contents\",\"scope\":\"1668969297293354733\",\"id\":\"ob_726\",\"type\":\"observable\"},this.plotElem.layout)) : undefined})"
         ],
         "_commands": [
          "(function (args){var fn=args.shift(); var elem=this.plotElem; var Plotly=this.Plotly; args.unshift(elem); return Plotly[fn].apply(this,args)})"
         ],
         "_downloadImage": [
          "(function (options){return this.Plotly.downloadImage(this.plotElem,options)})"
         ],
         "_toImage": [
          "(function (options){return this.Plotly.toImage(this.plotElem,options).then((function (data){return WebIO.setval({\"name\":\"image\",\"scope\":\"1668969297293354733\",\"id\":\"ob_725\",\"type\":\"observable\"},data)}))})"
         ]
        },
        "id": "1668969297293354733",
        "imports": {
         "data": [
          {
           "name": "Plotly",
           "type": "js",
           "url": "/assetserver/53ca06a0a410540f9b02c939cf8f1c306fc0edb0-plotly-latest.min.js"
          },
          {
           "name": null,
           "type": "js",
           "url": "/assetserver/9555b22721675d6271f198852ac55d5fd7c7e0a3-plotly_webio.bundle.js"
          }
         ],
         "type": "async_block"
        },
        "mount_callbacks": [
         "function () {\n    var handler = ((function (Plotly){var gd=this.dom.querySelector(\"#plot-89ba62b9-9c35-4233-877c-da0e29875dab\"); this.plotElem=gd; this.Plotly=Plotly; (window.Blink!==undefined) ? (gd.style.width=\"100%\", gd.style.height=\"100vh\", gd.style.marginLeft=\"0%\", gd.style.marginTop=\"0vh\") : undefined; window.onresize=(function (){return Plotly.Plots.resize(gd)}); Plotly.newPlot(gd,[{\"y\":[1.0],\"type\":\"scatter\",\"x\":[1.0]}],{\"margin\":{\"l\":50,\"b\":50,\"r\":50,\"t\":60}},{}); gd.on(\"plotly_hover\",(function (data){var filtered_data=WebIO.PlotlyCommands.filterEventData(gd,data,\"hover\"); return !(filtered_data.isnil) ? (WebIO.setval({\"name\":\"hover\",\"scope\":\"1668969297293354733\",\"id\":\"ob_721\",\"type\":\"observable\"},filtered_data.out)) : undefined})); gd.on(\"plotly_unhover\",(function (){return WebIO.setval({\"name\":\"hover\",\"scope\":\"1668969297293354733\",\"id\":\"ob_721\",\"type\":\"observable\"},{})})); gd.on(\"plotly_selected\",(function (data){var filtered_data=WebIO.PlotlyCommands.filterEventData(gd,data,\"selected\"); return !(filtered_data.isnil) ? (WebIO.setval({\"name\":\"selected\",\"scope\":\"1668969297293354733\",\"id\":\"ob_722\",\"type\":\"observable\"},filtered_data.out)) : undefined})); gd.on(\"plotly_deselect\",(function (){return WebIO.setval({\"name\":\"selected\",\"scope\":\"1668969297293354733\",\"id\":\"ob_722\",\"type\":\"observable\"},{})})); gd.on(\"plotly_relayout\",(function (data){var filtered_data=WebIO.PlotlyCommands.filterEventData(gd,data,\"relayout\"); return !(filtered_data.isnil) ? (WebIO.setval({\"name\":\"relayout\",\"scope\":\"1668969297293354733\",\"id\":\"ob_724\",\"type\":\"observable\"},filtered_data.out)) : undefined})); return gd.on(\"plotly_click\",(function (data){var filtered_data=WebIO.PlotlyCommands.filterEventData(gd,data,\"click\"); return !(filtered_data.isnil) ? (WebIO.setval({\"name\":\"click\",\"scope\":\"1668969297293354733\",\"id\":\"ob_723\",\"type\":\"observable\"},filtered_data.out)) : undefined}))}));\n    (WebIO.importBlock({\"data\":[{\"name\":\"Plotly\",\"type\":\"js\",\"url\":\"/assetserver/53ca06a0a410540f9b02c939cf8f1c306fc0edb0-plotly-latest.min.js\"},{\"name\":null,\"type\":\"js\",\"url\":\"/assetserver/9555b22721675d6271f198852ac55d5fd7c7e0a3-plotly_webio.bundle.js\"}],\"type\":\"async_block\"})).then((imports) => handler.apply(this, imports));\n}\n"
        ],
        "observables": {
         "__gd_contents": {
          "id": "ob_726",
          "sync": false,
          "value": {}
         },
         "__get_gd_contents": {
          "id": "ob_730",
          "sync": false,
          "value": ""
         },
         "_commands": {
          "id": "ob_727",
          "sync": false,
          "value": []
         },
         "_downloadImage": {
          "id": "ob_729",
          "sync": false,
          "value": {}
         },
         "_toImage": {
          "id": "ob_728",
          "sync": false,
          "value": {}
         },
         "click": {
          "id": "ob_723",
          "sync": false,
          "value": {}
         },
         "hover": {
          "id": "ob_721",
          "sync": false,
          "value": {}
         },
         "image": {
          "id": "ob_725",
          "sync": true,
          "value": ""
         },
         "relayout": {
          "id": "ob_724",
          "sync": false,
          "value": {}
         },
         "selected": {
          "id": "ob_722",
          "sync": false,
          "value": {}
         }
        },
        "systemjs_options": null
       },
       "nodeType": "Scope",
       "props": {},
       "type": "node"
      },
      "image/png": "[encoded data removed]",
      "text/html": [
       "<div\n",
       "    class=\"webio-mountpoint\"\n",
       "    data-webio-mountpoint=\"4920921138841744770\"\n",
       ">\n",
       "    <script>\n",
       "    if (window.require && require.defined && require.defined(\"nbextensions/webio/main\")) {\n",
       "        console.log(\"Jupyter WebIO extension detected, not mounting.\");\n",
       "    } else if (window.WebIO) {\n",
       "        WebIO.mount(\n",
       "            document.querySelector('[data-webio-mountpoint=\"4920921138841744770\"]'),\n",
       "            {\"props\":{},\"nodeType\":\"Scope\",\"type\":\"node\",\"instanceArgs\":{\"imports\":{\"data\":[{\"name\":\"Plotly\",\"type\":\"js\",\"url\":\"\\/assetserver\\/53ca06a0a410540f9b02c939cf8f1c306fc0edb0-plotly-latest.min.js\"},{\"name\":null,\"type\":\"js\",\"url\":\"\\/assetserver\\/9555b22721675d6271f198852ac55d5fd7c7e0a3-plotly_webio.bundle.js\"}],\"type\":\"async_block\"},\"id\":\"1668969297293354733\",\"handlers\":{\"_toImage\":[\"(function (options){return this.Plotly.toImage(this.plotElem,options).then((function (data){return WebIO.setval({\\\"name\\\":\\\"image\\\",\\\"scope\\\":\\\"1668969297293354733\\\",\\\"id\\\":\\\"ob_725\\\",\\\"type\\\":\\\"observable\\\"},data)}))})\"],\"__get_gd_contents\":[\"(function (prop){prop==\\\"data\\\" ? (WebIO.setval({\\\"name\\\":\\\"__gd_contents\\\",\\\"scope\\\":\\\"1668969297293354733\\\",\\\"id\\\":\\\"ob_726\\\",\\\"type\\\":\\\"observable\\\"},this.plotElem.data)) : undefined; return prop==\\\"layout\\\" ? (WebIO.setval({\\\"name\\\":\\\"__gd_contents\\\",\\\"scope\\\":\\\"1668969297293354733\\\",\\\"id\\\":\\\"ob_726\\\",\\\"type\\\":\\\"observable\\\"},this.plotElem.layout)) : undefined})\"],\"_downloadImage\":[\"(function (options){return this.Plotly.downloadImage(this.plotElem,options)})\"],\"_commands\":[\"(function (args){var fn=args.shift(); var elem=this.plotElem; var Plotly=this.Plotly; args.unshift(elem); return Plotly[fn].apply(this,args)})\"]},\"systemjs_options\":null,\"mount_callbacks\":[\"function () {\\n    var handler = ((function (Plotly){var gd=this.dom.querySelector(\\\"#plot-89ba62b9-9c35-4233-877c-da0e29875dab\\\"); this.plotElem=gd; this.Plotly=Plotly; (window.Blink!==undefined) ? (gd.style.width=\\\"100%\\\", gd.style.height=\\\"100vh\\\", gd.style.marginLeft=\\\"0%\\\", gd.style.marginTop=\\\"0vh\\\") : undefined; window.onresize=(function (){return Plotly.Plots.resize(gd)}); Plotly.newPlot(gd,[{\\\"y\\\":[1.0],\\\"type\\\":\\\"scatter\\\",\\\"x\\\":[1.0]}],{\\\"margin\\\":{\\\"l\\\":50,\\\"b\\\":50,\\\"r\\\":50,\\\"t\\\":60}},{}); gd.on(\\\"plotly_hover\\\",(function (data){var filtered_data=WebIO.PlotlyCommands.filterEventData(gd,data,\\\"hover\\\"); return !(filtered_data.isnil) ? (WebIO.setval({\\\"name\\\":\\\"hover\\\",\\\"scope\\\":\\\"1668969297293354733\\\",\\\"id\\\":\\\"ob_721\\\",\\\"type\\\":\\\"observable\\\"},filtered_data.out)) : undefined})); gd.on(\\\"plotly_unhover\\\",(function (){return WebIO.setval({\\\"name\\\":\\\"hover\\\",\\\"scope\\\":\\\"1668969297293354733\\\",\\\"id\\\":\\\"ob_721\\\",\\\"type\\\":\\\"observable\\\"},{})})); gd.on(\\\"plotly_selected\\\",(function (data){var filtered_data=WebIO.PlotlyCommands.filterEventData(gd,data,\\\"selected\\\"); return !(filtered_data.isnil) ? (WebIO.setval({\\\"name\\\":\\\"selected\\\",\\\"scope\\\":\\\"1668969297293354733\\\",\\\"id\\\":\\\"ob_722\\\",\\\"type\\\":\\\"observable\\\"},filtered_data.out)) : undefined})); gd.on(\\\"plotly_deselect\\\",(function (){return WebIO.setval({\\\"name\\\":\\\"selected\\\",\\\"scope\\\":\\\"1668969297293354733\\\",\\\"id\\\":\\\"ob_722\\\",\\\"type\\\":\\\"observable\\\"},{})})); gd.on(\\\"plotly_relayout\\\",(function (data){var filtered_data=WebIO.PlotlyCommands.filterEventData(gd,data,\\\"relayout\\\"); return !(filtered_data.isnil) ? (WebIO.setval({\\\"name\\\":\\\"relayout\\\",\\\"scope\\\":\\\"1668969297293354733\\\",\\\"id\\\":\\\"ob_724\\\",\\\"type\\\":\\\"observable\\\"},filtered_data.out)) : undefined})); return gd.on(\\\"plotly_click\\\",(function (data){var filtered_data=WebIO.PlotlyCommands.filterEventData(gd,data,\\\"click\\\"); return !(filtered_data.isnil) ? (WebIO.setval({\\\"name\\\":\\\"click\\\",\\\"scope\\\":\\\"1668969297293354733\\\",\\\"id\\\":\\\"ob_723\\\",\\\"type\\\":\\\"observable\\\"},filtered_data.out)) : undefined}))}));\\n    (WebIO.importBlock({\\\"data\\\":[{\\\"name\\\":\\\"Plotly\\\",\\\"type\\\":\\\"js\\\",\\\"url\\\":\\\"\\/assetserver\\/53ca06a0a410540f9b02c939cf8f1c306fc0edb0-plotly-latest.min.js\\\"},{\\\"name\\\":null,\\\"type\\\":\\\"js\\\",\\\"url\\\":\\\"\\/assetserver\\/9555b22721675d6271f198852ac55d5fd7c7e0a3-plotly_webio.bundle.js\\\"}],\\\"type\\\":\\\"async_block\\\"})).then((imports) => handler.apply(this, imports));\\n}\\n\"],\"observables\":{\"_toImage\":{\"sync\":false,\"id\":\"ob_728\",\"value\":{}},\"hover\":{\"sync\":false,\"id\":\"ob_721\",\"value\":{}},\"selected\":{\"sync\":false,\"id\":\"ob_722\",\"value\":{}},\"__gd_contents\":{\"sync\":false,\"id\":\"ob_726\",\"value\":{}},\"click\":{\"sync\":false,\"id\":\"ob_723\",\"value\":{}},\"image\":{\"sync\":true,\"id\":\"ob_725\",\"value\":\"\"},\"__get_gd_contents\":{\"sync\":false,\"id\":\"ob_730\",\"value\":\"\"},\"_downloadImage\":{\"sync\":false,\"id\":\"ob_729\",\"value\":{}},\"relayout\":{\"sync\":false,\"id\":\"ob_724\",\"value\":{}},\"_commands\":{\"sync\":false,\"id\":\"ob_727\",\"value\":[]}}},\"children\":[{\"props\":{\"id\":\"plot-89ba62b9-9c35-4233-877c-da0e29875dab\"},\"nodeType\":\"DOM\",\"type\":\"node\",\"instanceArgs\":{\"namespace\":\"html\",\"tag\":\"div\"},\"children\":[]}]},\n",
       "            window,\n",
       "        );\n",
       "    } else {\n",
       "        document\n",
       "            .querySelector('[data-webio-mountpoint=\"4920921138841744770\"]')\n",
       "            .innerHTML = '<strong>WebIO not detected.</strong>';\n",
       "    }\n",
       "    </script>\n",
       "</div>\n"
      ],
      "text/plain": [
       "data: [\n",
       "  \"scatter with fields type, x, and y\"\n",
       "]\n",
       "\n",
       "layout: \"layout with field margin\"\n",
       "\n"
      ]
     },
     "execution_count": 32,
     "metadata": {},
     "output_type": "execute_result"
    }
   ],
   "source": [
    "scatter1 = scatter(x=[1.0],y=[1.0])\n",
    "plt=plot([scatter1])\n"
   ]
  },
  {
   "cell_type": "code",
   "execution_count": 34,
   "metadata": {},
   "outputs": [],
   "source": [
    "for i=1:15\n",
    "    extendtraces(plt,x=[[i]],y=[[randn()]],1)\n",
    "    sleep(0.1)\n",
    "end"
   ]
  },
  {
   "cell_type": "code",
   "execution_count": null,
   "metadata": {},
   "outputs": [],
   "source": []
  }
 ],
 "metadata": {
  "@webio": {
   "lastCommId": null,
   "lastKernelId": null
  },
  "kernelspec": {
   "display_name": "Julia 1.1.1",
   "language": "julia",
   "name": "julia-1.1"
  },
  "language_info": {
   "file_extension": ".jl",
   "mimetype": "application/julia",
   "name": "julia",
   "version": "1.1.1"
  }
 },
 "nbformat": 4,
 "nbformat_minor": 4
}
